{
 "cells": [
  {
   "cell_type": "code",
   "execution_count": 22,
   "metadata": {
    "collapsed": true
   },
   "outputs": [],
   "source": [
    "from migen import *\n",
    "from migen.genlib.cdc import GrayDecoder\n",
    "\n",
    "class FrequencyCounter(Module):\n",
    "    def __init__(self, width):\n",
    "        \n",
    "        # set up a \"beatnote clock domain\"\n",
    "        # allows you to add always @ statements\n",
    "        self.clock_domains.bn = ClockDomain(reset_less=True)\n",
    "        \n",
    "        # gray counter modified from migen.genlib.cdc\n",
    "        # advantage of using gray counter instead of binary counter is\n",
    "        # only one bit will flip at a time; for crossing clock domains (ie, bringing\n",
    "        # result into sys_clk) this avoids crazy transient errors where some counter bits\n",
    "        # but not others have finished transitioning to their new state.\n",
    "        self.q = Signal(width)\n",
    "        self.q_next = Signal(width)\n",
    "        self.q_binary = Signal(width)\n",
    "        self.q_next_binary = Signal(width)\n",
    "        \n",
    "        \n",
    "        # # #\n",
    "        \n",
    "        self.comb += [\n",
    "            self.q_next_binary.eq(self.q_binary + 1),\n",
    "            self.q_next.eq(self.q_next_binary ^ self.q_next_binary[1:])\n",
    "        ]\n",
    "        \n",
    "        self.sync.bn += [\n",
    "            self.q_binary.eq(self.q_next_binary),\n",
    "            self.q.eq(self.q_next)\n",
    "        ]\n",
    "        \n",
    "        # adding this to submodules as named attribute exposes self.decoder attribute\n",
    "        self.submodules.decoder = GrayDecoder(width)\n",
    "        self.comb += self.decoder.i.eq(self.q)\n"
   ]
  },
  {
   "cell_type": "code",
   "execution_count": 24,
   "metadata": {
    "collapsed": false
   },
   "outputs": [],
   "source": [
    "f = FrequencyCounter(3)\n",
    "def tb(dut):\n",
    "    for i in range(2**3+1):\n",
    "        #yield dut.bn.clk.eq(~dut.bn.clk)\n",
    "        yield dut.bn.clk\n",
    "        yield\n",
    "\n",
    "run_simulation(f, tb(f), vcd_name=\"grey.vcd\")"
   ]
  },
  {
   "cell_type": "code",
   "execution_count": null,
   "metadata": {
    "collapsed": true
   },
   "outputs": [],
   "source": []
  }
 ],
 "metadata": {
  "kernelspec": {
   "display_name": "Python 3",
   "language": "python",
   "name": "python3"
  },
  "language_info": {
   "codemirror_mode": {
    "name": "ipython",
    "version": 3
   },
   "file_extension": ".py",
   "mimetype": "text/x-python",
   "name": "python",
   "nbconvert_exporter": "python",
   "pygments_lexer": "ipython3",
   "version": "3.5.3"
  }
 },
 "nbformat": 4,
 "nbformat_minor": 0
}
