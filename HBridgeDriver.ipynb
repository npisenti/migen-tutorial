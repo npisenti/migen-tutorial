{
 "cells": [
  {
   "cell_type": "code",
   "execution_count": 1,
   "metadata": {
    "collapsed": true
   },
   "outputs": [],
   "source": [
    "from migen import *\n",
    "from migen.genlib.fsm import FSM\n",
    "from migen.genlib.misc import WaitTimer\n",
    "\n",
    "class HBridgeDriver(Module):\n",
    "    def __init__(self, delay):\n",
    "        \n",
    "        # inputs\n",
    "        self.d = Signal()  # coil direction\n",
    "        self.en = Signal() # enable switching of direction\n",
    "        \n",
    "        # outputs\n",
    "        # signals driving relay on/off; will need to be wired to physical pin\n",
    "        # in platform definition/top-level build\n",
    "        self.r0 = Signal(reset=0)\n",
    "        self.r1 = Signal(reset=1)\n",
    "        self.r2 = Signal()\n",
    "        self.r3 = Signal()\n",
    "        \n",
    "        self.delay = delay # store attribute for testbench...?\n",
    "\n",
    "        # declaring these here is a pattern for doing, eg, the following in platform build:\n",
    "        #    top.comb += [platform.request(\"ttl\").eq(o) for o in top.outputs]\n",
    "        # (where `top` is an instance of HBridgeDriver)\n",
    "        self.inputs = [self.en, self.d]\n",
    "        self.outputs = [self.r0, self.r1, self.r2, self.r3]\n",
    "        \n",
    "        # # #\n",
    "        \n",
    "        # this syntax exposes these submodules as self.fsm, self.timer as well\n",
    "        self.submodules.fsm = fsm = FSM(reset_state=\"LOCKOUT\")\n",
    "        self.submodules.timer = timer = WaitTimer(delay)        \n",
    "        \n",
    "        # state machine\n",
    "        # \"LOCKOUT\" -> do not allow coil direction change. Exit this state\n",
    "        #              conditioned on zero current, plus some \"delay\" for ringdown\n",
    "        # \"ENABLE\" -> do allow coil direction to swap\n",
    "        fsm.act(\"LOCKOUT\",\n",
    "            If(self.en,\n",
    "                timer.wait.eq(1)\n",
    "            ).Else(timer.wait.eq(0)),\n",
    "            If(timer.done, NextState(\"ENABLE\"))\n",
    "        )\n",
    "        \n",
    "        fsm.act(\"ENABLE\",\n",
    "            If(self.en,\n",
    "                self.r0.eq(self.d),\n",
    "                self.r1.eq(~self.d)\n",
    "            ).Else(NextState(\"LOCKOUT\"))\n",
    "        )\n",
    "        \n",
    "        # will need to check polarity here for relay connections to \n",
    "        # get proper h-bridge behavior...\n",
    "        self.comb += [self.r2.eq(self.r0), self.r3.eq(self.r1)]"
   ]
  },
  {
   "cell_type": "markdown",
   "metadata": {},
   "source": [
    "First, let's run a testbench!"
   ]
  },
  {
   "cell_type": "code",
   "execution_count": 3,
   "metadata": {
    "collapsed": false
   },
   "outputs": [],
   "source": [
    "dut = HBridgeDriver(delay=10)\n",
    "\n",
    "def tb():\n",
    "    # drive inputs at start of simulation\n",
    "    yield dut.d.eq(0)\n",
    "    yield dut.en.eq(0)\n",
    "    \n",
    "    # check that r0, r1 are initialized properly\n",
    "    assert (yield dut.r0) == 0\n",
    "    assert (yield dut.r1) == 1\n",
    "    yield\n",
    "    \n",
    "    # enable switching & switch direction concurrently\n",
    "    yield dut.en.eq(1)\n",
    "    yield dut.d.eq(1)\n",
    "    for _ in range(dut.delay + 1):\n",
    "        # check that r0, r1 don't change until after delay lockout period\n",
    "        assert (yield dut.r0) == 0\n",
    "        assert (yield dut.r1) == 1\n",
    "        yield\n",
    "    \n",
    "    yield # need extra clock for state machine transition?\n",
    "    \n",
    "    # check that r0, r1 have swapped polarity\n",
    "    assert (yield dut.r0) == 1\n",
    "    assert (yield dut.r1) == 0\n",
    "\n",
    "run_simulation(dut, tb(), vcd_name=\"HBridgeDriver_tb.vcd\")"
   ]
  },
  {
   "cell_type": "markdown",
   "metadata": {},
   "source": [
    "Here's what the waveform looks like:\n",
    "\n",
    "![HBridgeDriver](HBridgeDriver_tb_gtkwave.png)"
   ]
  },
  {
   "cell_type": "markdown",
   "metadata": {},
   "source": [
    "Ok, next step is to instatitate a particular hardware platform, and build this module in gateware.\n",
    "\n",
    "Going to do now for pipistrello, but ultimately want to port this to CPLD (eg, this [Digilent Board](http://store.digilentinc.com/cmod-c2-breadboardable-coolrunner-ii-cpld-module/) or this similar but [cheaper one from seeed](https://www.seeedstudio.com/XC2C64A-CoolRunner-II-CPLD-development-board-p-800.html).\n",
    "\n",
    "Unfortunately I don't have ISE installed, so it errors out, but the generated .v module looks close to appropriate..."
   ]
  },
  {
   "cell_type": "code",
   "execution_count": null,
   "metadata": {
    "collapsed": true
   },
   "outputs": [],
   "source": [
    "from migen.build.platforms import pipistrello\n",
    "from migen.build.generic_platform import *\n",
    "\n",
    "# generic connector from old artiq target file\n",
    "_pipistrello_io = [\n",
    "    (\"ttl\", 0, Pins(\"C:11\"), IOStandard(\"LVTTL\")),\n",
    "    (\"ttl\", 1, Pins(\"C:10\"), IOStandard(\"LVTTL\")),\n",
    "    (\"ttl\", 2, Pins(\"C:9\"), IOStandard(\"LVTTL\")),\n",
    "    (\"ttl\", 3, Pins(\"C:8\"), IOStandard(\"LVTTL\")),\n",
    "    (\"ttl\", 4, Pins(\"C:7\"), IOStandard(\"LVTTL\")),\n",
    "    (\"ttl\", 5, Pins(\"C:6\"), IOStandard(\"LVTTL\")),\n",
    "    (\"ttl\", 6, Pins(\"C:5\"), IOStandard(\"LVTTL\")),\n",
    "    (\"ttl\", 7, Pins(\"C:4\"), IOStandard(\"LVTTL\"))\n",
    "]\n",
    "\n",
    "\n",
    "def build_platform(delay=10):\n",
    "    platform = pipistrello.Platform()\n",
    "    \n",
    "    # must `add_extension` to be able to request IO\n",
    "    platform.add_extension(_pipistrello_io)\n",
    "\n",
    "    top = HBridgeDriver(delay)\n",
    "\n",
    "    # drive direction, enable signals from first two TTL\n",
    "    # alternatively, could do platform.request(\"ttl\", 0), ... to get explicit\n",
    "    top.comb += [\n",
    "        top.en.eq(platform.request(\"ttl\")),\n",
    "        top.d.eq(platform.request(\"ttl\"))\n",
    "    ]\n",
    "\n",
    "    # drive output pins\n",
    "    # (general) QUESTION: do you have to explicitly declare in vs out? or is it inferred\n",
    "    # from reg vs wire...?\n",
    "    top.comb += [platform.request(\"ttl\").eq(o) for o in top.outputs]\n",
    "\n",
    "    platform.build(top, build_dir=\"pipistrello_hbridge\", build_name=\"hbridge_top\")\n"
   ]
  }
 ],
 "metadata": {
  "kernelspec": {
   "display_name": "Python 3",
   "language": "python",
   "name": "python3"
  },
  "language_info": {
   "codemirror_mode": {
    "name": "ipython",
    "version": 3
   },
   "file_extension": ".py",
   "mimetype": "text/x-python",
   "name": "python",
   "nbconvert_exporter": "python",
   "pygments_lexer": "ipython3",
   "version": "3.4.5"
  }
 },
 "nbformat": 4,
 "nbformat_minor": 0
}
